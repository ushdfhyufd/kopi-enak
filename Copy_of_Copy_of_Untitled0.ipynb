{
  "nbformat": 4,
  "nbformat_minor": 0,
  "metadata": {
    "colab": {
      "name": "Copy of Copy of Untitled0.ipynb",
      "private_outputs": true,
      "provenance": [],
      "machine_shape": "hm"
    },
    "kernelspec": {
      "name": "python3",
      "display_name": "Python 3"
    },
    "language_info": {
      "name": "python"
    },
    "accelerator": "GPU"
  },
  "cells": [
    {
      "cell_type": "code",
      "metadata": {
        "cellView": "form",
        "id": "GNuvRXxz2ZIM"
      },
      "source": [
        "#@title V100 - P100 Hunter .....\n",
        "from IPython.display import HTML\n",
        "from subprocess import getoutput\n",
        "s = getoutput('nvidia-smi')\n",
        "if 'T4' in s:\n",
        "  gpu = 'T4'\n",
        "elif 'P100' in s:\n",
        "  gpu = 'P100'\n",
        "elif 'V100' in s:\n",
        "  gpu = 'V100'\n",
        "display(HTML(f\"<h2>{gpu}</h2>\"))\n",
        "print(s)\n",
        "# or simply\n",
        "!nvidia-smi -L"
      ],
      "execution_count": null,
      "outputs": []
    },
    {
      "cell_type": "code",
      "metadata": {
        "id": "Ggh_ryT1-mb4",
        "cellView": "form"
      },
      "source": [
        "#@title acc ngerock and rool\n",
        "from getpass import getpass\n",
        "\n",
        "# Don't forget create your account of ngrok and get token from https://dashboard.ngrok.com/auth/your-authtoken\n",
        "authtoken = getpass(\"Input your Auth token\")"
      ],
      "execution_count": null,
      "outputs": []
    },
    {
      "cell_type": "code",
      "metadata": {
        "id": "dLyl9EEf-q6H",
        "cellView": "form"
      },
      "source": [
        "#@title enable ssh bro ogot\n",
        "! apt-get install --yes git ssh python3-venv > /dev/null\n",
        "\n",
        "# Download ngrok\n",
        "! wget -q -c -nc https://bin.equinox.io/c/4VmDzA7iaHb/ngrok-stable-linux-amd64.zip\n",
        "! unzip -qq -n ngrok-stable-linux-amd64.zip\n",
        "# Run ngrok\n",
        "get_ipython().system_raw('./ngrok authtoken $authtoken && ./ngrok http 8888 &')\n",
        "! sleep 3\n",
        "\n",
        "# Get the address for code-server\n",
        "import requests\n",
        "from re import sub\n",
        "r = requests.get('http://localhost:4040/api/tunnels')\n",
        "str_ssh = r.json()['tunnels'][0]['public_url']\n",
        "print(str_ssh)"
      ],
      "execution_count": null,
      "outputs": []
    },
    {
      "cell_type": "code",
      "metadata": {
        "id": "ikeRlQ2Y-spk",
        "cellView": "form"
      },
      "source": [
        "#@title twrp google drive\n",
        "from google.colab import drive\n",
        "drive.mount('/googledrive')\n",
        "! mkdir -p /googledrive/My\\ Drive/colabdrive\n",
        "! mkdir -p /googledrive/My\\ Drive/colabdrive/root/.local/share/code-server\n",
        "! ln -s /googledrive/My\\ Drive/colabdrive /\n",
        "! ln -s /googledrive/My\\ Drive/colabdrive/root/.local/share/code-server /root/.local/share/"
      ],
      "execution_count": null,
      "outputs": []
    },
    {
      "cell_type": "code",
      "metadata": {
        "id": "H9Jzhc-a-u5E",
        "cellView": "form"
      },
      "source": [
        "#@title pass web\n",
        "code_server_pass = getpass(\"Input code-server password\")"
      ],
      "execution_count": null,
      "outputs": []
    },
    {
      "cell_type": "code",
      "metadata": {
        "id": "_Ogypv0K-xkz",
        "cellView": "form"
      },
      "source": [
        "#@title moodoll\n",
        "! curl -fsSL https://code-server.dev/install.sh | sh > /dev/null\n",
        "! PASSWORD=$code_server_pass code-server --bind-addr 127.0.0.1:8888 --auth password &"
      ],
      "execution_count": null,
      "outputs": []
    }
  ]
}